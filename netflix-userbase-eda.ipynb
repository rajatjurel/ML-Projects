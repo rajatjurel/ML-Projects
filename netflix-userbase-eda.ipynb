{
 "cells": [
  {
   "cell_type": "code",
   "execution_count": 1,
   "id": "345e68ac",
   "metadata": {
    "_cell_guid": "b1076dfc-b9ad-4769-8c92-a6c4dae69d19",
    "_uuid": "8f2839f25d086af736a60e9eeb907d3b93b6e0e5",
    "execution": {
     "iopub.execute_input": "2023-07-28T10:01:32.352552Z",
     "iopub.status.busy": "2023-07-28T10:01:32.351806Z",
     "iopub.status.idle": "2023-07-28T10:01:32.374780Z",
     "shell.execute_reply": "2023-07-28T10:01:32.373556Z"
    },
    "papermill": {
     "duration": 0.034416,
     "end_time": "2023-07-28T10:01:32.377530",
     "exception": false,
     "start_time": "2023-07-28T10:01:32.343114",
     "status": "completed"
    },
    "tags": []
   },
   "outputs": [
    {
     "name": "stdout",
     "output_type": "stream",
     "text": [
      "/kaggle/input/netflix-userbase-dataset/Netflix Userbase.csv\n"
     ]
    }
   ],
   "source": [
    "# This Python 3 environment comes with many helpful analytics libraries installed\n",
    "# It is defined by the kaggle/python Docker image: https://github.com/kaggle/docker-python\n",
    "# For example, here's several helpful packages to load\n",
    "\n",
    "import numpy as np # linear algebra\n",
    "import pandas as pd # data processing, CSV file I/O (e.g. pd.read_csv)\n",
    "\n",
    "# Input data files are available in the read-only \"../input/\" directory\n",
    "# For example, running this (by clicking run or pressing Shift+Enter) will list all files under the input directory\n",
    "\n",
    "import os\n",
    "for dirname, _, filenames in os.walk('/kaggle/input'):\n",
    "    for filename in filenames:\n",
    "        print(os.path.join(dirname, filename))\n",
    "\n",
    "# You can write up to 20GB to the current directory (/kaggle/working/) that gets preserved as output when you create a version using \"Save & Run All\" \n",
    "# You can also write temporary files to /kaggle/temp/, but they won't be saved outside of the current session"
   ]
  },
  {
   "cell_type": "code",
   "execution_count": 2,
   "id": "c65d8b84",
   "metadata": {
    "execution": {
     "iopub.execute_input": "2023-07-28T10:01:32.392236Z",
     "iopub.status.busy": "2023-07-28T10:01:32.391805Z",
     "iopub.status.idle": "2023-07-28T10:01:33.920571Z",
     "shell.execute_reply": "2023-07-28T10:01:33.919535Z"
    },
    "papermill": {
     "duration": 1.539364,
     "end_time": "2023-07-28T10:01:33.923247",
     "exception": false,
     "start_time": "2023-07-28T10:01:32.383883",
     "status": "completed"
    },
    "tags": []
   },
   "outputs": [
    {
     "name": "stderr",
     "output_type": "stream",
     "text": [
      "/opt/conda/lib/python3.10/site-packages/scipy/__init__.py:146: UserWarning: A NumPy version >=1.16.5 and <1.23.0 is required for this version of SciPy (detected version 1.23.5\n",
      "  warnings.warn(f\"A NumPy version >={np_minversion} and <{np_maxversion}\"\n"
     ]
    }
   ],
   "source": [
    "import numpy as np\n",
    "import pandas as pd\n",
    "import matplotlib.pyplot as plt\n",
    "import seaborn as sns\n",
    "import warnings\n",
    "warnings.filterwarnings('ignore')"
   ]
  },
  {
   "cell_type": "code",
   "execution_count": 3,
   "id": "63bb4ba5",
   "metadata": {
    "execution": {
     "iopub.execute_input": "2023-07-28T10:01:33.938150Z",
     "iopub.status.busy": "2023-07-28T10:01:33.937677Z",
     "iopub.status.idle": "2023-07-28T10:01:33.972248Z",
     "shell.execute_reply": "2023-07-28T10:01:33.971203Z"
    },
    "papermill": {
     "duration": 0.044991,
     "end_time": "2023-07-28T10:01:33.975041",
     "exception": false,
     "start_time": "2023-07-28T10:01:33.930050",
     "status": "completed"
    },
    "tags": []
   },
   "outputs": [],
   "source": [
    "df = pd.read_csv('/kaggle/input/netflix-userbase-dataset/Netflix Userbase.csv')"
   ]
  },
  {
   "cell_type": "code",
   "execution_count": 4,
   "id": "6d619ca7",
   "metadata": {
    "execution": {
     "iopub.execute_input": "2023-07-28T10:01:33.989864Z",
     "iopub.status.busy": "2023-07-28T10:01:33.989386Z",
     "iopub.status.idle": "2023-07-28T10:01:34.017909Z",
     "shell.execute_reply": "2023-07-28T10:01:34.016714Z"
    },
    "papermill": {
     "duration": 0.039259,
     "end_time": "2023-07-28T10:01:34.020755",
     "exception": false,
     "start_time": "2023-07-28T10:01:33.981496",
     "status": "completed"
    },
    "tags": []
   },
   "outputs": [
    {
     "data": {
      "text/html": [
       "<div>\n",
       "<style scoped>\n",
       "    .dataframe tbody tr th:only-of-type {\n",
       "        vertical-align: middle;\n",
       "    }\n",
       "\n",
       "    .dataframe tbody tr th {\n",
       "        vertical-align: top;\n",
       "    }\n",
       "\n",
       "    .dataframe thead th {\n",
       "        text-align: right;\n",
       "    }\n",
       "</style>\n",
       "<table border=\"1\" class=\"dataframe\">\n",
       "  <thead>\n",
       "    <tr style=\"text-align: right;\">\n",
       "      <th></th>\n",
       "      <th>User ID</th>\n",
       "      <th>Subscription Type</th>\n",
       "      <th>Monthly Revenue</th>\n",
       "      <th>Join Date</th>\n",
       "      <th>Last Payment Date</th>\n",
       "      <th>Country</th>\n",
       "      <th>Age</th>\n",
       "      <th>Gender</th>\n",
       "      <th>Device</th>\n",
       "      <th>Plan Duration</th>\n",
       "    </tr>\n",
       "  </thead>\n",
       "  <tbody>\n",
       "    <tr>\n",
       "      <th>0</th>\n",
       "      <td>1</td>\n",
       "      <td>Basic</td>\n",
       "      <td>10</td>\n",
       "      <td>15-01-22</td>\n",
       "      <td>10-06-23</td>\n",
       "      <td>United States</td>\n",
       "      <td>28</td>\n",
       "      <td>Male</td>\n",
       "      <td>Smartphone</td>\n",
       "      <td>1 Month</td>\n",
       "    </tr>\n",
       "    <tr>\n",
       "      <th>1</th>\n",
       "      <td>2</td>\n",
       "      <td>Premium</td>\n",
       "      <td>15</td>\n",
       "      <td>05-09-21</td>\n",
       "      <td>22-06-23</td>\n",
       "      <td>Canada</td>\n",
       "      <td>35</td>\n",
       "      <td>Female</td>\n",
       "      <td>Tablet</td>\n",
       "      <td>1 Month</td>\n",
       "    </tr>\n",
       "    <tr>\n",
       "      <th>2</th>\n",
       "      <td>3</td>\n",
       "      <td>Standard</td>\n",
       "      <td>12</td>\n",
       "      <td>28-02-23</td>\n",
       "      <td>27-06-23</td>\n",
       "      <td>United Kingdom</td>\n",
       "      <td>42</td>\n",
       "      <td>Male</td>\n",
       "      <td>Smart TV</td>\n",
       "      <td>1 Month</td>\n",
       "    </tr>\n",
       "    <tr>\n",
       "      <th>3</th>\n",
       "      <td>4</td>\n",
       "      <td>Standard</td>\n",
       "      <td>12</td>\n",
       "      <td>10-07-22</td>\n",
       "      <td>26-06-23</td>\n",
       "      <td>Australia</td>\n",
       "      <td>51</td>\n",
       "      <td>Female</td>\n",
       "      <td>Laptop</td>\n",
       "      <td>1 Month</td>\n",
       "    </tr>\n",
       "    <tr>\n",
       "      <th>4</th>\n",
       "      <td>5</td>\n",
       "      <td>Basic</td>\n",
       "      <td>10</td>\n",
       "      <td>01-05-23</td>\n",
       "      <td>28-06-23</td>\n",
       "      <td>Germany</td>\n",
       "      <td>33</td>\n",
       "      <td>Male</td>\n",
       "      <td>Smartphone</td>\n",
       "      <td>1 Month</td>\n",
       "    </tr>\n",
       "    <tr>\n",
       "      <th>5</th>\n",
       "      <td>6</td>\n",
       "      <td>Premium</td>\n",
       "      <td>15</td>\n",
       "      <td>18-03-22</td>\n",
       "      <td>27-06-23</td>\n",
       "      <td>France</td>\n",
       "      <td>29</td>\n",
       "      <td>Female</td>\n",
       "      <td>Smart TV</td>\n",
       "      <td>1 Month</td>\n",
       "    </tr>\n",
       "    <tr>\n",
       "      <th>6</th>\n",
       "      <td>7</td>\n",
       "      <td>Standard</td>\n",
       "      <td>12</td>\n",
       "      <td>09-12-21</td>\n",
       "      <td>25-06-23</td>\n",
       "      <td>Brazil</td>\n",
       "      <td>46</td>\n",
       "      <td>Male</td>\n",
       "      <td>Tablet</td>\n",
       "      <td>1 Month</td>\n",
       "    </tr>\n",
       "    <tr>\n",
       "      <th>7</th>\n",
       "      <td>8</td>\n",
       "      <td>Basic</td>\n",
       "      <td>10</td>\n",
       "      <td>02-04-23</td>\n",
       "      <td>24-06-23</td>\n",
       "      <td>Mexico</td>\n",
       "      <td>39</td>\n",
       "      <td>Female</td>\n",
       "      <td>Laptop</td>\n",
       "      <td>1 Month</td>\n",
       "    </tr>\n",
       "    <tr>\n",
       "      <th>8</th>\n",
       "      <td>9</td>\n",
       "      <td>Standard</td>\n",
       "      <td>12</td>\n",
       "      <td>20-10-22</td>\n",
       "      <td>23-06-23</td>\n",
       "      <td>Spain</td>\n",
       "      <td>37</td>\n",
       "      <td>Male</td>\n",
       "      <td>Smartphone</td>\n",
       "      <td>1 Month</td>\n",
       "    </tr>\n",
       "    <tr>\n",
       "      <th>9</th>\n",
       "      <td>10</td>\n",
       "      <td>Premium</td>\n",
       "      <td>15</td>\n",
       "      <td>07-01-23</td>\n",
       "      <td>22-06-23</td>\n",
       "      <td>Italy</td>\n",
       "      <td>44</td>\n",
       "      <td>Female</td>\n",
       "      <td>Smart TV</td>\n",
       "      <td>1 Month</td>\n",
       "    </tr>\n",
       "  </tbody>\n",
       "</table>\n",
       "</div>"
      ],
      "text/plain": [
       "   User ID Subscription Type  Monthly Revenue Join Date Last Payment Date  \\\n",
       "0        1             Basic               10  15-01-22          10-06-23   \n",
       "1        2           Premium               15  05-09-21          22-06-23   \n",
       "2        3          Standard               12  28-02-23          27-06-23   \n",
       "3        4          Standard               12  10-07-22          26-06-23   \n",
       "4        5             Basic               10  01-05-23          28-06-23   \n",
       "5        6           Premium               15  18-03-22          27-06-23   \n",
       "6        7          Standard               12  09-12-21          25-06-23   \n",
       "7        8             Basic               10  02-04-23          24-06-23   \n",
       "8        9          Standard               12  20-10-22          23-06-23   \n",
       "9       10           Premium               15  07-01-23          22-06-23   \n",
       "\n",
       "          Country  Age  Gender      Device Plan Duration  \n",
       "0   United States   28    Male  Smartphone       1 Month  \n",
       "1          Canada   35  Female      Tablet       1 Month  \n",
       "2  United Kingdom   42    Male    Smart TV       1 Month  \n",
       "3       Australia   51  Female      Laptop       1 Month  \n",
       "4         Germany   33    Male  Smartphone       1 Month  \n",
       "5          France   29  Female    Smart TV       1 Month  \n",
       "6          Brazil   46    Male      Tablet       1 Month  \n",
       "7          Mexico   39  Female      Laptop       1 Month  \n",
       "8           Spain   37    Male  Smartphone       1 Month  \n",
       "9           Italy   44  Female    Smart TV       1 Month  "
      ]
     },
     "execution_count": 4,
     "metadata": {},
     "output_type": "execute_result"
    }
   ],
   "source": [
    "df.head(10)"
   ]
  },
  {
   "cell_type": "code",
   "execution_count": 5,
   "id": "e1130550",
   "metadata": {
    "execution": {
     "iopub.execute_input": "2023-07-28T10:01:34.036959Z",
     "iopub.status.busy": "2023-07-28T10:01:34.036266Z",
     "iopub.status.idle": "2023-07-28T10:01:34.044068Z",
     "shell.execute_reply": "2023-07-28T10:01:34.042789Z"
    },
    "papermill": {
     "duration": 0.018864,
     "end_time": "2023-07-28T10:01:34.046790",
     "exception": false,
     "start_time": "2023-07-28T10:01:34.027926",
     "status": "completed"
    },
    "tags": []
   },
   "outputs": [
    {
     "data": {
      "text/plain": [
       "(2500, 10)"
      ]
     },
     "execution_count": 5,
     "metadata": {},
     "output_type": "execute_result"
    }
   ],
   "source": [
    "df.shape"
   ]
  },
  {
   "cell_type": "code",
   "execution_count": 6,
   "id": "a71d4a50",
   "metadata": {
    "execution": {
     "iopub.execute_input": "2023-07-28T10:01:34.063316Z",
     "iopub.status.busy": "2023-07-28T10:01:34.062591Z",
     "iopub.status.idle": "2023-07-28T10:01:34.088966Z",
     "shell.execute_reply": "2023-07-28T10:01:34.087738Z"
    },
    "papermill": {
     "duration": 0.037888,
     "end_time": "2023-07-28T10:01:34.091631",
     "exception": false,
     "start_time": "2023-07-28T10:01:34.053743",
     "status": "completed"
    },
    "tags": []
   },
   "outputs": [
    {
     "data": {
      "text/html": [
       "<div>\n",
       "<style scoped>\n",
       "    .dataframe tbody tr th:only-of-type {\n",
       "        vertical-align: middle;\n",
       "    }\n",
       "\n",
       "    .dataframe tbody tr th {\n",
       "        vertical-align: top;\n",
       "    }\n",
       "\n",
       "    .dataframe thead th {\n",
       "        text-align: right;\n",
       "    }\n",
       "</style>\n",
       "<table border=\"1\" class=\"dataframe\">\n",
       "  <thead>\n",
       "    <tr style=\"text-align: right;\">\n",
       "      <th></th>\n",
       "      <th>User ID</th>\n",
       "      <th>Monthly Revenue</th>\n",
       "      <th>Age</th>\n",
       "    </tr>\n",
       "  </thead>\n",
       "  <tbody>\n",
       "    <tr>\n",
       "      <th>count</th>\n",
       "      <td>2500.00000</td>\n",
       "      <td>2500.000000</td>\n",
       "      <td>2500.000000</td>\n",
       "    </tr>\n",
       "    <tr>\n",
       "      <th>mean</th>\n",
       "      <td>1250.50000</td>\n",
       "      <td>12.508400</td>\n",
       "      <td>38.795600</td>\n",
       "    </tr>\n",
       "    <tr>\n",
       "      <th>std</th>\n",
       "      <td>721.83216</td>\n",
       "      <td>1.686851</td>\n",
       "      <td>7.171778</td>\n",
       "    </tr>\n",
       "    <tr>\n",
       "      <th>min</th>\n",
       "      <td>1.00000</td>\n",
       "      <td>10.000000</td>\n",
       "      <td>26.000000</td>\n",
       "    </tr>\n",
       "    <tr>\n",
       "      <th>25%</th>\n",
       "      <td>625.75000</td>\n",
       "      <td>11.000000</td>\n",
       "      <td>32.000000</td>\n",
       "    </tr>\n",
       "    <tr>\n",
       "      <th>50%</th>\n",
       "      <td>1250.50000</td>\n",
       "      <td>12.000000</td>\n",
       "      <td>39.000000</td>\n",
       "    </tr>\n",
       "    <tr>\n",
       "      <th>75%</th>\n",
       "      <td>1875.25000</td>\n",
       "      <td>14.000000</td>\n",
       "      <td>45.000000</td>\n",
       "    </tr>\n",
       "    <tr>\n",
       "      <th>max</th>\n",
       "      <td>2500.00000</td>\n",
       "      <td>15.000000</td>\n",
       "      <td>51.000000</td>\n",
       "    </tr>\n",
       "  </tbody>\n",
       "</table>\n",
       "</div>"
      ],
      "text/plain": [
       "          User ID  Monthly Revenue          Age\n",
       "count  2500.00000      2500.000000  2500.000000\n",
       "mean   1250.50000        12.508400    38.795600\n",
       "std     721.83216         1.686851     7.171778\n",
       "min       1.00000        10.000000    26.000000\n",
       "25%     625.75000        11.000000    32.000000\n",
       "50%    1250.50000        12.000000    39.000000\n",
       "75%    1875.25000        14.000000    45.000000\n",
       "max    2500.00000        15.000000    51.000000"
      ]
     },
     "execution_count": 6,
     "metadata": {},
     "output_type": "execute_result"
    }
   ],
   "source": [
    "df.describe()"
   ]
  },
  {
   "cell_type": "code",
   "execution_count": 7,
   "id": "c2e1d8f6",
   "metadata": {
    "execution": {
     "iopub.execute_input": "2023-07-28T10:01:34.107953Z",
     "iopub.status.busy": "2023-07-28T10:01:34.107486Z",
     "iopub.status.idle": "2023-07-28T10:01:34.120573Z",
     "shell.execute_reply": "2023-07-28T10:01:34.119157Z"
    },
    "papermill": {
     "duration": 0.024643,
     "end_time": "2023-07-28T10:01:34.123553",
     "exception": false,
     "start_time": "2023-07-28T10:01:34.098910",
     "status": "completed"
    },
    "tags": []
   },
   "outputs": [],
   "source": [
    "# There is no requirement for USER ID. So, We will drop it\n",
    "df.drop(['User ID'], axis = 1 , inplace = True)"
   ]
  },
  {
   "cell_type": "code",
   "execution_count": 8,
   "id": "39fe908f",
   "metadata": {
    "execution": {
     "iopub.execute_input": "2023-07-28T10:01:34.140929Z",
     "iopub.status.busy": "2023-07-28T10:01:34.139540Z",
     "iopub.status.idle": "2023-07-28T10:01:34.171607Z",
     "shell.execute_reply": "2023-07-28T10:01:34.170647Z"
    },
    "papermill": {
     "duration": 0.043575,
     "end_time": "2023-07-28T10:01:34.174358",
     "exception": false,
     "start_time": "2023-07-28T10:01:34.130783",
     "status": "completed"
    },
    "tags": []
   },
   "outputs": [
    {
     "data": {
      "text/html": [
       "<div>\n",
       "<style scoped>\n",
       "    .dataframe tbody tr th:only-of-type {\n",
       "        vertical-align: middle;\n",
       "    }\n",
       "\n",
       "    .dataframe tbody tr th {\n",
       "        vertical-align: top;\n",
       "    }\n",
       "\n",
       "    .dataframe thead th {\n",
       "        text-align: right;\n",
       "    }\n",
       "</style>\n",
       "<table border=\"1\" class=\"dataframe\">\n",
       "  <thead>\n",
       "    <tr style=\"text-align: right;\">\n",
       "      <th></th>\n",
       "      <th>Subscription Type</th>\n",
       "      <th>Monthly Revenue</th>\n",
       "      <th>Join Date</th>\n",
       "      <th>Last Payment Date</th>\n",
       "      <th>Country</th>\n",
       "      <th>Age</th>\n",
       "      <th>Gender</th>\n",
       "      <th>Device</th>\n",
       "      <th>Plan Duration</th>\n",
       "    </tr>\n",
       "  </thead>\n",
       "  <tbody>\n",
       "    <tr>\n",
       "      <th>0</th>\n",
       "      <td>Basic</td>\n",
       "      <td>10</td>\n",
       "      <td>15-01-22</td>\n",
       "      <td>10-06-23</td>\n",
       "      <td>United States</td>\n",
       "      <td>28</td>\n",
       "      <td>Male</td>\n",
       "      <td>Smartphone</td>\n",
       "      <td>1 Month</td>\n",
       "    </tr>\n",
       "    <tr>\n",
       "      <th>1</th>\n",
       "      <td>Premium</td>\n",
       "      <td>15</td>\n",
       "      <td>05-09-21</td>\n",
       "      <td>22-06-23</td>\n",
       "      <td>Canada</td>\n",
       "      <td>35</td>\n",
       "      <td>Female</td>\n",
       "      <td>Tablet</td>\n",
       "      <td>1 Month</td>\n",
       "    </tr>\n",
       "    <tr>\n",
       "      <th>2</th>\n",
       "      <td>Standard</td>\n",
       "      <td>12</td>\n",
       "      <td>28-02-23</td>\n",
       "      <td>27-06-23</td>\n",
       "      <td>United Kingdom</td>\n",
       "      <td>42</td>\n",
       "      <td>Male</td>\n",
       "      <td>Smart TV</td>\n",
       "      <td>1 Month</td>\n",
       "    </tr>\n",
       "    <tr>\n",
       "      <th>3</th>\n",
       "      <td>Standard</td>\n",
       "      <td>12</td>\n",
       "      <td>10-07-22</td>\n",
       "      <td>26-06-23</td>\n",
       "      <td>Australia</td>\n",
       "      <td>51</td>\n",
       "      <td>Female</td>\n",
       "      <td>Laptop</td>\n",
       "      <td>1 Month</td>\n",
       "    </tr>\n",
       "    <tr>\n",
       "      <th>4</th>\n",
       "      <td>Basic</td>\n",
       "      <td>10</td>\n",
       "      <td>01-05-23</td>\n",
       "      <td>28-06-23</td>\n",
       "      <td>Germany</td>\n",
       "      <td>33</td>\n",
       "      <td>Male</td>\n",
       "      <td>Smartphone</td>\n",
       "      <td>1 Month</td>\n",
       "    </tr>\n",
       "    <tr>\n",
       "      <th>...</th>\n",
       "      <td>...</td>\n",
       "      <td>...</td>\n",
       "      <td>...</td>\n",
       "      <td>...</td>\n",
       "      <td>...</td>\n",
       "      <td>...</td>\n",
       "      <td>...</td>\n",
       "      <td>...</td>\n",
       "      <td>...</td>\n",
       "    </tr>\n",
       "    <tr>\n",
       "      <th>2495</th>\n",
       "      <td>Premium</td>\n",
       "      <td>14</td>\n",
       "      <td>25-07-22</td>\n",
       "      <td>12-07-23</td>\n",
       "      <td>Spain</td>\n",
       "      <td>28</td>\n",
       "      <td>Female</td>\n",
       "      <td>Smart TV</td>\n",
       "      <td>1 Month</td>\n",
       "    </tr>\n",
       "    <tr>\n",
       "      <th>2496</th>\n",
       "      <td>Basic</td>\n",
       "      <td>15</td>\n",
       "      <td>04-08-22</td>\n",
       "      <td>14-07-23</td>\n",
       "      <td>Spain</td>\n",
       "      <td>33</td>\n",
       "      <td>Female</td>\n",
       "      <td>Smart TV</td>\n",
       "      <td>1 Month</td>\n",
       "    </tr>\n",
       "    <tr>\n",
       "      <th>2497</th>\n",
       "      <td>Standard</td>\n",
       "      <td>12</td>\n",
       "      <td>09-08-22</td>\n",
       "      <td>15-07-23</td>\n",
       "      <td>United States</td>\n",
       "      <td>38</td>\n",
       "      <td>Male</td>\n",
       "      <td>Laptop</td>\n",
       "      <td>1 Month</td>\n",
       "    </tr>\n",
       "    <tr>\n",
       "      <th>2498</th>\n",
       "      <td>Standard</td>\n",
       "      <td>13</td>\n",
       "      <td>12-08-22</td>\n",
       "      <td>12-07-23</td>\n",
       "      <td>Canada</td>\n",
       "      <td>48</td>\n",
       "      <td>Female</td>\n",
       "      <td>Tablet</td>\n",
       "      <td>1 Month</td>\n",
       "    </tr>\n",
       "    <tr>\n",
       "      <th>2499</th>\n",
       "      <td>Basic</td>\n",
       "      <td>15</td>\n",
       "      <td>13-08-22</td>\n",
       "      <td>12-07-23</td>\n",
       "      <td>United States</td>\n",
       "      <td>35</td>\n",
       "      <td>Female</td>\n",
       "      <td>Smart TV</td>\n",
       "      <td>1 Month</td>\n",
       "    </tr>\n",
       "  </tbody>\n",
       "</table>\n",
       "<p>2500 rows × 9 columns</p>\n",
       "</div>"
      ],
      "text/plain": [
       "     Subscription Type  Monthly Revenue Join Date Last Payment Date  \\\n",
       "0                Basic               10  15-01-22          10-06-23   \n",
       "1              Premium               15  05-09-21          22-06-23   \n",
       "2             Standard               12  28-02-23          27-06-23   \n",
       "3             Standard               12  10-07-22          26-06-23   \n",
       "4                Basic               10  01-05-23          28-06-23   \n",
       "...                ...              ...       ...               ...   \n",
       "2495           Premium               14  25-07-22          12-07-23   \n",
       "2496             Basic               15  04-08-22          14-07-23   \n",
       "2497          Standard               12  09-08-22          15-07-23   \n",
       "2498          Standard               13  12-08-22          12-07-23   \n",
       "2499             Basic               15  13-08-22          12-07-23   \n",
       "\n",
       "             Country  Age  Gender      Device Plan Duration  \n",
       "0      United States   28    Male  Smartphone       1 Month  \n",
       "1             Canada   35  Female      Tablet       1 Month  \n",
       "2     United Kingdom   42    Male    Smart TV       1 Month  \n",
       "3          Australia   51  Female      Laptop       1 Month  \n",
       "4            Germany   33    Male  Smartphone       1 Month  \n",
       "...              ...  ...     ...         ...           ...  \n",
       "2495           Spain   28  Female    Smart TV       1 Month  \n",
       "2496           Spain   33  Female    Smart TV       1 Month  \n",
       "2497   United States   38    Male      Laptop       1 Month  \n",
       "2498          Canada   48  Female      Tablet       1 Month  \n",
       "2499   United States   35  Female    Smart TV       1 Month  \n",
       "\n",
       "[2500 rows x 9 columns]"
      ]
     },
     "execution_count": 8,
     "metadata": {},
     "output_type": "execute_result"
    }
   ],
   "source": [
    "df.drop_duplicates() # Dropping duplicates if present"
   ]
  },
  {
   "cell_type": "code",
   "execution_count": 9,
   "id": "eb2f6e09",
   "metadata": {
    "execution": {
     "iopub.execute_input": "2023-07-28T10:01:34.192593Z",
     "iopub.status.busy": "2023-07-28T10:01:34.191425Z",
     "iopub.status.idle": "2023-07-28T10:01:34.216156Z",
     "shell.execute_reply": "2023-07-28T10:01:34.214925Z"
    },
    "papermill": {
     "duration": 0.036389,
     "end_time": "2023-07-28T10:01:34.218765",
     "exception": false,
     "start_time": "2023-07-28T10:01:34.182376",
     "status": "completed"
    },
    "tags": []
   },
   "outputs": [
    {
     "name": "stdout",
     "output_type": "stream",
     "text": [
      "<class 'pandas.core.frame.DataFrame'>\n",
      "RangeIndex: 2500 entries, 0 to 2499\n",
      "Data columns (total 9 columns):\n",
      " #   Column             Non-Null Count  Dtype \n",
      "---  ------             --------------  ----- \n",
      " 0   Subscription Type  2500 non-null   object\n",
      " 1   Monthly Revenue    2500 non-null   int64 \n",
      " 2   Join Date          2500 non-null   object\n",
      " 3   Last Payment Date  2500 non-null   object\n",
      " 4   Country            2500 non-null   object\n",
      " 5   Age                2500 non-null   int64 \n",
      " 6   Gender             2500 non-null   object\n",
      " 7   Device             2500 non-null   object\n",
      " 8   Plan Duration      2500 non-null   object\n",
      "dtypes: int64(2), object(7)\n",
      "memory usage: 175.9+ KB\n"
     ]
    }
   ],
   "source": [
    "df.info()"
   ]
  },
  {
   "cell_type": "markdown",
   "id": "c27e161e",
   "metadata": {
    "papermill": {
     "duration": 0.007669,
     "end_time": "2023-07-28T10:01:34.234192",
     "exception": false,
     "start_time": "2023-07-28T10:01:34.226523",
     "status": "completed"
    },
    "tags": []
   },
   "source": [
    "# Exploratory Data Analysis"
   ]
  },
  {
   "cell_type": "code",
   "execution_count": 10,
   "id": "ad2b40ed",
   "metadata": {
    "execution": {
     "iopub.execute_input": "2023-07-28T10:01:34.254601Z",
     "iopub.status.busy": "2023-07-28T10:01:34.253827Z",
     "iopub.status.idle": "2023-07-28T10:01:34.512115Z",
     "shell.execute_reply": "2023-07-28T10:01:34.510761Z"
    },
    "papermill": {
     "duration": 0.271071,
     "end_time": "2023-07-28T10:01:34.514762",
     "exception": false,
     "start_time": "2023-07-28T10:01:34.243691",
     "status": "completed"
    },
    "tags": []
   },
   "outputs": [
    {
     "data": {
      "image/png": "[encoded data removed]",
      "text/plain": [
       "<Figure size 640x480 with 1 Axes>"
      ]
     },
     "metadata": {},
     "output_type": "display_data"
    }
   ],
   "source": [
    "# This Countplot show how many subscriptions are buyed according to type of subscription\n",
    "sns.countplot(x=\"Subscription Type\", data=df)\n",
    "plt.show()"
   ]
  },
  {
   "cell_type": "code",
   "execution_count": 11,
   "id": "f72285fa",
   "metadata": {
    "execution": {
     "iopub.execute_input": "2023-07-28T10:01:34.532887Z",
     "iopub.status.busy": "2023-07-28T10:01:34.532425Z",
     "iopub.status.idle": "2023-07-28T10:01:34.803365Z",
     "shell.execute_reply": "2023-07-28T10:01:34.802162Z"
    },
    "papermill": {
     "duration": 0.282919,
     "end_time": "2023-07-28T10:01:34.805894",
     "exception": false,
     "start_time": "2023-07-28T10:01:34.522975",
     "status": "completed"
    },
    "tags": []
   },
   "outputs": [
    {
     "data": {
      "image/png": "[encoded data removed]",
      "text/plain": [
       "<Figure size 640x480 with 1 Axes>"
      ]
     },
     "metadata": {},
     "output_type": "display_data"
    }
   ],
   "source": [
    "# This section show gender-wise interest of subscription type \n",
    "sns.countplot(x=\"Subscription Type\", hue=\"Gender\",data=df)\n",
    "plt.show()"
   ]
  },
  {
   "cell_type": "code",
   "execution_count": 12,
   "id": "d0e3c2c3",
   "metadata": {
    "execution": {
     "iopub.execute_input": "2023-07-28T10:01:34.824554Z",
     "iopub.status.busy": "2023-07-28T10:01:34.824126Z",
     "iopub.status.idle": "2023-07-28T10:01:35.315711Z",
     "shell.execute_reply": "2023-07-28T10:01:35.314329Z"
    },
    "papermill": {
     "duration": 0.50412,
     "end_time": "2023-07-28T10:01:35.318489",
     "exception": false,
     "start_time": "2023-07-28T10:01:34.814369",
     "status": "completed"
    },
    "tags": []
   },
   "outputs": [
    {
     "data": {
      "image/png": "[encoded data removed]",
      "text/plain": [
       "<Figure size 1500x500 with 1 Axes>"
      ]
     },
     "metadata": {},
     "output_type": "display_data"
    }
   ],
   "source": [
    "# This section show country-wise subscription type \n",
    "plt.figure(figsize=(15,5))\n",
    "sns.countplot(x=\"Subscription Type\", hue=\"Country\",data=df)\n",
    "plt.show()"
   ]
  },
  {
   "cell_type": "code",
   "execution_count": 13,
   "id": "49a3e24b",
   "metadata": {
    "execution": {
     "iopub.execute_input": "2023-07-28T10:01:35.339557Z",
     "iopub.status.busy": "2023-07-28T10:01:35.339172Z",
     "iopub.status.idle": "2023-07-28T10:01:35.594057Z",
     "shell.execute_reply": "2023-07-28T10:01:35.593091Z"
    },
    "papermill": {
     "duration": 0.268644,
     "end_time": "2023-07-28T10:01:35.596713",
     "exception": false,
     "start_time": "2023-07-28T10:01:35.328069",
     "status": "completed"
    },
    "tags": []
   },
   "outputs": [
    {
     "data": {
      "image/png": "[encoded data removed]",
      "text/plain": [
       "<Figure size 1000x500 with 1 Axes>"
      ]
     },
     "metadata": {},
     "output_type": "display_data"
    }
   ],
   "source": [
    "# This shows which device is used to watch netflix\n",
    "plt.figure(figsize=(10,5))\n",
    "sns.countplot(x=\"Device\",data=df)\n",
    "plt.show()"
   ]
  },
  {
   "cell_type": "code",
   "execution_count": 14,
   "id": "ae838d77",
   "metadata": {
    "execution": {
     "iopub.execute_input": "2023-07-28T10:01:35.618581Z",
     "iopub.status.busy": "2023-07-28T10:01:35.617784Z",
     "iopub.status.idle": "2023-07-28T10:01:35.971782Z",
     "shell.execute_reply": "2023-07-28T10:01:35.970567Z"
    },
    "papermill": {
     "duration": 0.368688,
     "end_time": "2023-07-28T10:01:35.974821",
     "exception": false,
     "start_time": "2023-07-28T10:01:35.606133",
     "status": "completed"
    },
    "tags": []
   },
   "outputs": [
    {
     "data": {
      "image/png": "[encoded data removed]",
      "text/plain": [
       "<Figure size 640x480 with 1 Axes>"
      ]
     },
     "metadata": {},
     "output_type": "display_data"
    }
   ],
   "source": [
    "# Checking for which subscription type generate high revenue\n",
    "ax = df.groupby('Subscription Type')['Monthly Revenue'].agg('sum').plot(kind='bar', color=['#030','#017F00' ,'#AAAA00'])\n",
    "plt.xticks(rotation=0)\n",
    "plt.title('Total revenue for each Plan')\n",
    "plt.xlabel('Subscription Plan')\n",
    "plt.ylabel('Total Revenue')\n",
    "for i in ax.containers:\n",
    "    ax.bar_label(i,)"
   ]
  },
  {
   "cell_type": "code",
   "execution_count": 15,
   "id": "9b26f1f7",
   "metadata": {
    "execution": {
     "iopub.execute_input": "2023-07-28T10:01:35.998013Z",
     "iopub.status.busy": "2023-07-28T10:01:35.997573Z",
     "iopub.status.idle": "2023-07-28T10:01:36.453007Z",
     "shell.execute_reply": "2023-07-28T10:01:36.451367Z"
    },
    "papermill": {
     "duration": 0.47103,
     "end_time": "2023-07-28T10:01:36.456399",
     "exception": false,
     "start_time": "2023-07-28T10:01:35.985369",
     "status": "completed"
    },
    "tags": []
   },
   "outputs": [
    {
     "data": {
      "image/png": "[encoded data removed]",
      "text/plain": [
       "<Figure size 1500x500 with 1 Axes>"
      ]
     },
     "metadata": {},
     "output_type": "display_data"
    }
   ],
   "source": [
    "# checking for which country generate high revenue\n",
    "plt.figure(figsize=(15,5))\n",
    "ax = df.groupby('Country')['Monthly Revenue'].agg('sum').plot(kind='bar', color=['#030','#017F00' ,'#AAAA00'])\n",
    "plt.xticks(rotation=0)\n",
    "plt.title('Total revenue for each Plan')\n",
    "plt.xlabel('Country')\n",
    "plt.ylabel('Total Revenue')\n",
    "for i in ax.containers:\n",
    "    ax.bar_label(i,)"
   ]
  },
  {
   "cell_type": "code",
   "execution_count": null,
   "id": "515119bc",
   "metadata": {
    "papermill": {
     "duration": 0.01094,
     "end_time": "2023-07-28T10:01:36.478149",
     "exception": false,
     "start_time": "2023-07-28T10:01:36.467209",
     "status": "completed"
    },
    "tags": []
   },
   "outputs": [],
   "source": []
  }
 ],
 "metadata": {
  "kernelspec": {
   "display_name": "Python 3",
   "language": "python",
   "name": "python3"
  },
  "language_info": {
   "codemirror_mode": {
    "name": "ipython",
    "version": 3
   },
   "file_extension": ".py",
   "mimetype": "text/x-python",
   "name": "python",
   "nbconvert_exporter": "python",
   "pygments_lexer": "ipython3",
   "version": "3.10.12"
  },
  "papermill": {
   "default_parameters": {},
   "duration": 17.590014,
   "end_time": "2023-07-28T10:01:37.511205",
   "environment_variables": {},
   "exception": null,
   "input_path": "__notebook__.ipynb",
   "output_path": "__notebook__.ipynb",
   "parameters": {},
   "start_time": "2023-07-28T10:01:19.921191",
   "version": "2.4.0"
  }
 },
 "nbformat": 4,
 "nbformat_minor": 5
}
